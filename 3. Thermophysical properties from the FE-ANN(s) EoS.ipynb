{
 "cells": [
  {
   "cell_type": "markdown",
   "id": "5a66f457",
   "metadata": {},
   "source": [
    "# 3. Thermophysical properties from the FE-ANN(s) EoS\n",
    "\n",
    "The FE-ANN(s) EoS models the Helmholtz free energy of the Mie particle. \n",
    "\n",
    "$$ \\mathcal{U}^{\\mathrm{Mie}} = \\mathcal{C}^{\\mathrm{Mie}} \\epsilon \\left[ \\left(\\frac{\\sigma}{r}\\right)^{\\lambda_r} -  \\left(\\frac{\\sigma}{r}\\right)^{\\lambda_a} \\right] $$\n",
    "\n",
    "This EoS can be used to compute several thermophysical properties.\n",
    "\n",
    "First, we need to upload the required packages:\n",
    "- **numpy**: numerical python\n",
    "- **matplotlib**: figures in python\n",
    "- **jax**: high performance numerical computing and machine learning\n",
    "- **nest_asyncio**: needed to load the checkpoints\n",
    "- **feanns_eos**: library with implemented FE-ANN(s) EoS and phase equilibria solvers."
   ]
  },
  {
   "cell_type": "code",
   "execution_count": 1,
   "id": "e13f2ca7",
   "metadata": {},
   "outputs": [],
   "source": [
    "import numpy as np\n",
    "import matplotlib.pyplot as plt\n",
    "from jax import numpy as jnp\n",
    "\n",
    "from feanns_eos import HelmholtzModel\n",
    "from feanns_eos import load_feanns_params\n",
    "from feanns_eos import helper_get_alpha\n",
    "from feanns_eos import helper_solver_funs, helper_jitted_funs\n",
    "\n",
    "from jax.config import config\n",
    "config.update(\"jax_enable_x64\", True)\n",
    "type_np = np.float64\n",
    "type_jax = jnp.float64\n",
    "\n",
    "# needed to read checkpoints in jupyter notebooks\n",
    "import nest_asyncio\n",
    "nest_asyncio.apply()"
   ]
  },
  {
   "cell_type": "markdown",
   "id": "5dd64494",
   "metadata": {},
   "source": [
    "The FE-ANN(s) EoS is loaded as shown in the previous jupyter notebook."
   ]
  },
  {
   "cell_type": "code",
   "execution_count": 2,
   "id": "7ff5a1aa",
   "metadata": {},
   "outputs": [],
   "source": [
    "# directory where checkpoints are saved\n",
    "ckpt_dir = \"./eos_params\"\n",
    "# name of the checkpoint\n",
    "prefix = \"feanns_\"\n",
    "\n",
    "# loading the current checkpoint\n",
    "state = load_feanns_params(ckpt_dir, prefix=prefix)\n",
    "\n",
    "# creating the model with the given features\n",
    "model = HelmholtzModel(features=state['features'])\n",
    "params = {'params': state['params']}"
   ]
  },
  {
   "cell_type": "markdown",
   "id": "77926f1e",
   "metadata": {},
   "source": [
    "The use of the FE-ANN(s) EoS will be showcased here for the Lennard-Jones fluid ($\\lambda_r=12$ and $\\lambda_a=6$). The `alpha` parameter is obtained with the `helper_get_alpha` function."
   ]
  },
  {
   "cell_type": "code",
   "execution_count": 3,
   "id": "0dfdc356",
   "metadata": {},
   "outputs": [],
   "source": [
    "# descriptor of Lennard-Jones Fluid\n",
    "lr = 12\n",
    "la = 6\n",
    "alpha_aux = helper_get_alpha(lr, la)\n",
    "\n",
    "alpha = np.array([alpha_aux])\n",
    "rhoad = np.array([0.135])\n",
    "Tad = np.array([1.3])"
   ]
  },
  {
   "cell_type": "markdown",
   "id": "7b140275",
   "metadata": {},
   "source": [
    "### Residual Helmholtz energy \n",
    "The `model.apply` can be used to compute the residual helmholtz free energy and its derivatives. The possible methods are:\n",
    "\n",
    "- Default method: Ares\n",
    "- `model.dhelmholtz_drho`: Ares, dAres_drho\n",
    "- `model.dhelmholtz_dT`: Ares, dAres_dT\n",
    "- `model.dhelmholtz`: Ares, dAres_drho, dAres_dT\n",
    "- `model.d2helmholtz_drho2`: Ares, dAres_drho, d2Ares_drho2\n",
    "- `model.d2helmholtz_drho_dT`: Ares, dAres_drho, d2Ares_drho_dT\n",
    "- `model.d2helmholtz_drho2_dT`: Ares, dAres_drho, d2Ares_drho2, d2Ares_drho_dT\n",
    "- `model.d2helmholtz_dT2`: Ares, dAres_dT, d2Ares_dT2\n",
    "- `mdoel.d2helmholtz`: Ares, dAres_drho, dAres_dT, d2Ares_drho2, d2Ares_dT2, d2Ares_drho_dT\n",
    "\n",
    "The derivatives are obtained using automatic differentiation provided by `jax`.\n",
    "\n",
    "Some examples are shown below."
   ]
  },
  {
   "cell_type": "code",
   "execution_count": 4,
   "id": "d8f12067",
   "metadata": {},
   "outputs": [
    {
     "data": {
      "text/plain": [
       "Array([-0.54297094], dtype=float64)"
      ]
     },
     "execution_count": 4,
     "metadata": {},
     "output_type": "execute_result"
    }
   ],
   "source": [
    "# Output: Ares\n",
    "model.apply(params, alpha, rhoad, Tad)"
   ]
  },
  {
   "cell_type": "code",
   "execution_count": 5,
   "id": "a84c9855",
   "metadata": {},
   "outputs": [
    {
     "data": {
      "text/plain": [
       "(Array([-0.54297094], dtype=float64), Array([-3.66280611], dtype=float64))"
      ]
     },
     "execution_count": 5,
     "metadata": {},
     "output_type": "execute_result"
    }
   ],
   "source": [
    "# Output: Ares, dAres_drho\n",
    "model.apply(params, alpha, rhoad, Tad, method=model.dhelmholtz_drho)"
   ]
  },
  {
   "cell_type": "code",
   "execution_count": 6,
   "id": "982d3f0b",
   "metadata": {},
   "outputs": [
    {
     "data": {
      "text/plain": [
       "(Array([-0.54297094], dtype=float64), Array([0.40794744], dtype=float64))"
      ]
     },
     "execution_count": 6,
     "metadata": {},
     "output_type": "execute_result"
    }
   ],
   "source": [
    "# Output: Ares, dAres_dT\n",
    "model.apply(params, alpha, rhoad, Tad, method=model.dhelmholtz_dT)"
   ]
  },
  {
   "cell_type": "code",
   "execution_count": 7,
   "id": "3ca41e66",
   "metadata": {},
   "outputs": [
    {
     "data": {
      "text/plain": [
       "(Array([-0.54297094], dtype=float64),\n",
       " Array([-3.66280611], dtype=float64),\n",
       " Array([0.40794744], dtype=float64))"
      ]
     },
     "execution_count": 7,
     "metadata": {},
     "output_type": "execute_result"
    }
   ],
   "source": [
    "# Output: Ares, dAres_drho, dAres_dT\n",
    "model.apply(params, alpha, rhoad, Tad, method=model.dhelmholtz)"
   ]
  },
  {
   "cell_type": "markdown",
   "id": "866a305b",
   "metadata": {},
   "source": [
    "### Thermophysical properties\n",
    "\n",
    "The `HelmholtzModel` object also includes methods to compute the following thermophysical properties.\n",
    "\n",
    "##### First-order properties\n",
    "- `model.pressure`: returns reduced pressure, Pad\n",
    "- `model.chemical_potential`: returns reduced chemical potential, muad\n",
    "- `model.entropy_residual`: returns reduced residual entropy, Sres\n",
    "- `model.internal_energy_residual`: returns reduced residual internal energy, Ures\n",
    "- `model.enthalpy_residual`: returns reduced residual enthalpy, Hres\n",
    "- `model.gibbs_residual`: returns reduced residual Gibbs free energy, Gres (equivalent to chemical potential)\n",
    "\n",
    "##### Second-order properties\n",
    "- `model.cv_residual`: returns reduced residual isochoric heat capacity, Cvres\n",
    "- `model.cp_residual`: returns reduced residual isobaric heat capacity, Cpres\n",
    "- `model.thermal_expansion_coeff`: returns reduced thermal expansion coefficient, alphaP\n",
    "- `model.isothermal_compressibility`: returns reduced isothermal compressibility, kappaT\n",
    "- `model.joule_thomson`: return Joule-Thomson coefficient, muJT\n",
    "\n",
    "The functions are called as `model.method(params, alpha, rhoad, Tad)`. As a summary you can also use the `model.thermophysical_properties` method to compute most of the aforementioned thermophysical properties.\n",
    "See some examples below."
   ]
  },
  {
   "cell_type": "code",
   "execution_count": 8,
   "id": "cb3b6066",
   "metadata": {},
   "outputs": [
    {
     "data": {
      "text/plain": [
       "Array([0.10874536], dtype=float64)"
      ]
     },
     "execution_count": 8,
     "metadata": {},
     "output_type": "execute_result"
    }
   ],
   "source": [
    "# Output: reduced pressure\n",
    "model.pressure(params, alpha, rhoad, Tad)"
   ]
  },
  {
   "cell_type": "code",
   "execution_count": 9,
   "id": "58003976",
   "metadata": {},
   "outputs": [
    {
     "data": {
      "text/plain": [
       "Array([0.44502336], dtype=float64)"
      ]
     },
     "execution_count": 9,
     "metadata": {},
     "output_type": "execute_result"
    }
   ],
   "source": [
    "# Output: isochoric heat capacity\n",
    "model.cv_residual(params, alpha, rhoad, Tad)"
   ]
  },
  {
   "cell_type": "code",
   "execution_count": 10,
   "id": "9eaef982",
   "metadata": {},
   "outputs": [
    {
     "data": {
      "text/plain": [
       "{'alpha': array([0.88888889]),\n",
       " 'temperature': array([1.3]),\n",
       " 'density': array([0.135]),\n",
       " 'pressure': Array([0.10874536], dtype=float64),\n",
       " 'compressibility_factor': Array([0.61963167], dtype=float64),\n",
       " 'internal_energy': Array([0.87669739], dtype=float64),\n",
       " 'isochoric_heat_capacity': Array([1.94502336], dtype=float64),\n",
       " 'isothermal_compressibility': Array([17.93964388], dtype=float64),\n",
       " 'rho_isothermal_compressibility': Array([2.42185192], dtype=float64),\n",
       " 'thermal_expansion_coefficient': Array([3.39943361], dtype=float64),\n",
       " 'thermal_pressure_coefficient': Array([0.18949281], dtype=float64),\n",
       " 'isobaric_heat_capacity': Array([8.14812496], dtype=float64),\n",
       " 'adiabatic_index': Array([4.18921701], dtype=float64),\n",
       " 'joule_thomson_coefficient': Array([3.10843039], dtype=float64)}"
      ]
     },
     "execution_count": 10,
     "metadata": {},
     "output_type": "execute_result"
    }
   ],
   "source": [
    "# Output several thermophysical properties\n",
    "model.thermophysical_properties(params, alpha, rhoad, Tad)"
   ]
  },
  {
   "cell_type": "markdown",
   "id": "fd7bb62e",
   "metadata": {},
   "source": [
    "The methods described above can the jitted with `jax.jit` to increase the evaluation performance. There are two functions for that do this. The `helper_solver_funs` jit functions are needed for the density and phase equilibria solvers.   The `helper_jitted_funs` does this automatically for all the abovementioned methods; this function takes slightly longer to run as this method compiles more functions than `helper_solver_funs`. \n",
    "\n",
    "Moreover, these functions automatically embed the parameters into the function. Hence, the jitted functions are just called as`function(alpha, Rhoad, Tad)`."
   ]
  },
  {
   "cell_type": "code",
   "execution_count": 11,
   "id": "2dbbb6be",
   "metadata": {},
   "outputs": [
    {
     "name": "stdout",
     "output_type": "stream",
     "text": [
      "Solvers functions\n",
      "Jitted functions:  dict_keys(['helmholtz_fun', 'pressure_fun', 'dpressure_drho_fun', 'dpressure_drho_aux_fun', 'd2pressure_drho2_fun', 'pressure_and_chempot_fun'])\n",
      "\n",
      "All functions\n",
      "Jitted functions:  dict_keys(['helmholtz_fun', 'dhelmholtz_drho_fun', 'd2helmholtz_drho2_dT_fun', 'd2helmholtz_drho2_fun', 'd2helmholtz_fun', 'pressure_fun', 'dpressure_drho_fun', 'dpressure_drho_aux_fun', 'd2pressure_drho2_fun', 'pressure_and_chempot_fun', 'chemical_potential_residual_fun', 'entropy_residual_fun', 'internal_energy_residual_fun', 'enthalpy_residual_fun', 'gibbs_residual_fun', 'cv_residual_fun', 'cp_residual_fun', 'thermal_expansion_coeff_fun', 'thermal_pressure_coeff_fun', 'isothermal_compressibility_fun', 'joule_thomson_fun', 'thermophysical_properties_fun'])\n"
     ]
    }
   ],
   "source": [
    "fun_solvers_dic = helper_solver_funs(model, params)\n",
    "# The following functions are available so far\n",
    "print('Solvers functions')\n",
    "print('Jitted functions: ', fun_solvers_dic.keys())\n",
    "print('')\n",
    "fun_dic = helper_jitted_funs(model, params)\n",
    "print('All functions')\n",
    "print('Jitted functions: ', fun_dic.keys())\n",
    "\n",
    "pressure_fun = fun_dic['pressure_fun']\n",
    "enthalpy_residual_fun = fun_dic['enthalpy_residual_fun']\n",
    "thermal_expansion_coeff_fun = fun_dic['thermal_expansion_coeff_fun']\n",
    "thermophysical_properties_fun = fun_dic['thermophysical_properties_fun']"
   ]
  },
  {
   "cell_type": "code",
   "execution_count": 12,
   "id": "fd0696d4",
   "metadata": {},
   "outputs": [
    {
     "data": {
      "text/plain": [
       "Array([0.10874536], dtype=float64)"
      ]
     },
     "execution_count": 12,
     "metadata": {},
     "output_type": "execute_result"
    }
   ],
   "source": [
    "pressure_fun(alpha, rhoad, Tad)"
   ]
  },
  {
   "cell_type": "code",
   "execution_count": 13,
   "id": "053528fe",
   "metadata": {},
   "outputs": [
    {
     "data": {
      "text/plain": [
       "Array([-1.56778144], dtype=float64)"
      ]
     },
     "execution_count": 13,
     "metadata": {},
     "output_type": "execute_result"
    }
   ],
   "source": [
    "enthalpy_residual_fun(alpha, rhoad, Tad)"
   ]
  },
  {
   "cell_type": "code",
   "execution_count": 14,
   "id": "1359cc83",
   "metadata": {},
   "outputs": [
    {
     "data": {
      "text/plain": [
       "{'adiabatic_index': Array([4.18921701], dtype=float64),\n",
       " 'alpha': Array([0.88888889], dtype=float64),\n",
       " 'compressibility_factor': Array([0.61963167], dtype=float64),\n",
       " 'density': Array([0.135], dtype=float64),\n",
       " 'internal_energy': Array([0.87669739], dtype=float64),\n",
       " 'isobaric_heat_capacity': Array([8.14812496], dtype=float64),\n",
       " 'isochoric_heat_capacity': Array([1.94502336], dtype=float64),\n",
       " 'isothermal_compressibility': Array([17.93964388], dtype=float64),\n",
       " 'joule_thomson_coefficient': Array([3.10843039], dtype=float64),\n",
       " 'pressure': Array([0.10874536], dtype=float64),\n",
       " 'rho_isothermal_compressibility': Array([2.42185192], dtype=float64),\n",
       " 'temperature': Array([1.3], dtype=float64),\n",
       " 'thermal_expansion_coefficient': Array([3.39943361], dtype=float64),\n",
       " 'thermal_pressure_coefficient': Array([0.18949281], dtype=float64)}"
      ]
     },
     "execution_count": 14,
     "metadata": {},
     "output_type": "execute_result"
    }
   ],
   "source": [
    "thermophysical_properties_fun(alpha, rhoad, Tad)"
   ]
  },
  {
   "cell_type": "markdown",
   "id": "433cb5f9",
   "metadata": {},
   "source": [
    "-----\n",
    "\n",
    "You can use the methods above to compute isotherms for a given property."
   ]
  },
  {
   "cell_type": "code",
   "execution_count": 15,
   "id": "1100b92c",
   "metadata": {},
   "outputs": [],
   "source": [
    "# isotherms to compute\n",
    "T1 = 0.8\n",
    "T2 = 1.3\n",
    "T3 = 2.7\n",
    "\n",
    "# setting up arrays for plots\n",
    "n = 200\n",
    "alpha_plot = alpha_aux * np.ones(n)\n",
    "rhoad_plot = np.linspace(0, 1.2, n)\n",
    "T1_plot = T1 * np.ones(n)\n",
    "T2_plot = T2 * np.ones(n)\n",
    "T3_plot = T3 * np.ones(n)"
   ]
  },
  {
   "cell_type": "code",
   "execution_count": 16,
   "id": "8aaa704f",
   "metadata": {},
   "outputs": [
    {
     "data": {
      "text/plain": [
       "<matplotlib.legend.Legend at 0x36097a7f0>"
      ]
     },
     "execution_count": 16,
     "metadata": {},
     "output_type": "execute_result"
    },
    {
     "data": {
      "image/png": "[encoded data removed]",
      "text/plain": [
       "<Figure size 640x480 with 1 Axes>"
      ]
     },
     "metadata": {},
     "output_type": "display_data"
    }
   ],
   "source": [
    "P1_plot = pressure_fun(alpha_plot, rhoad_plot, T1_plot)\n",
    "P2_plot = pressure_fun(alpha_plot, rhoad_plot, T2_plot)\n",
    "P3_plot = pressure_fun(alpha_plot, rhoad_plot, T3_plot)\n",
    "\n",
    "plt.plot(rhoad_plot, P1_plot, label=f\"T={T1}\")\n",
    "plt.plot(rhoad_plot, P2_plot, label=f\"T={T2}\")\n",
    "plt.plot(rhoad_plot, P3_plot, label=f\"T={T3}\")\n",
    "plt.xlim([0, 1.2])\n",
    "plt.xlabel(r'$\\rho^*$')\n",
    "plt.ylabel(r'$P^*$')\n",
    "plt.legend(loc='upper left')"
   ]
  },
  {
   "cell_type": "code",
   "execution_count": null,
   "id": "590ef27b",
   "metadata": {},
   "outputs": [],
   "source": []
  }
 ],
 "metadata": {
  "kernelspec": {
   "display_name": "jax",
   "language": "python",
   "name": "python3"
  },
  "language_info": {
   "codemirror_mode": {
    "name": "ipython",
    "version": 3
   },
   "file_extension": ".py",
   "mimetype": "text/x-python",
   "name": "python",
   "nbconvert_exporter": "python",
   "pygments_lexer": "ipython3",
   "version": "3.8.16"
  }
 },
 "nbformat": 4,
 "nbformat_minor": 5
}
